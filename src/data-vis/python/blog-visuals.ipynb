{
 "cells": [
  {
   "cell_type": "code",
   "execution_count": 3,
   "metadata": {},
   "outputs": [],
   "source": [
    "import pandas as pd\n",
    "import seaborn as sns\n",
    "import numpy as np\n",
    "import matplotlib.pyplot as plt\n",
    "from cassandrautils import *\n"
   ]
  },
  {
   "cell_type": "code",
   "execution_count": null,
   "metadata": {},
   "outputs": [],
   "source": [
    "weather = getWeatherDF()\n",
    "unique_locations = weather['location'].unique()\n",
    "\n",
    "fig, axes = plt.subplots(nrows=len(unique_locations), ncols=1, figsize=(12, 4 * len(unique_locations)))\n",
    "\n",
    "for i, location in enumerate(unique_locations):\n",
    "    ax = weather[weather['location'] == location].plot(x='forecastdate', y='feels_like', ax=axes[i], label=location)\n",
    "    ax.set_ylabel('Temperature (°K)')\n",
    "    ax.set_title(f'Temperature Forecast - {location}')\n",
    "\n",
    "plt.tight_layout()\n",
    "plt.show()"
   ]
  },
  {
   "cell_type": "code",
   "execution_count": null,
   "metadata": {},
   "outputs": [],
   "source": [
    "df = getFakerDF()\n",
    "# Calculate the distribution of top 5 color names\n",
    "color_counts = df['color_name'].value_counts()\n",
    "top5colors = color_counts.head(5)\n",
    "\n",
    "plt.figure(figsize=(8, 8))\n",
    "plt.pie(top5colors, labels=top5colors.index, autopct='%1.1f%%', startangle=140)\n",
    "plt.title(\"Distribution of top 5 favorite colors!\")\n",
    "plt.axis('equal')  # Equal aspect ratio ensures that pie is drawn as a circle.\n",
    "plt.show()"
   ]
  },
  {
   "cell_type": "code",
   "execution_count": null,
   "metadata": {},
   "outputs": [],
   "source": [
    "# Group the data by the 'prefix' column and count occurrences\n",
    "prefix_counts = df['prefix'].value_counts()\n",
    "\n",
    "plt.figure(figsize=(10, 6))\n",
    "prefix_counts.plot(kind='bar', color='skyblue')\n",
    "plt.title('Distribution of Gender')\n",
    "plt.xlabel('Prefix')\n",
    "plt.ylabel('Count')\n",
    "plt.xticks(rotation=45)\n",
    "plt.tight_layout()\n",
    "plt.show()"
   ]
  },
  {
   "attachments": {},
   "cell_type": "markdown",
   "metadata": {},
   "source": []
  }
 ],
 "metadata": {
  "kernelspec": {
   "display_name": "Python 3",
   "language": "python",
   "name": "python3"
  },
  "language_info": {
   "codemirror_mode": {
    "name": "ipython",
    "version": 3
   },
   "file_extension": ".py",
   "mimetype": "text/x-python",
   "name": "python",
   "nbconvert_exporter": "python",
   "pygments_lexer": "ipython3",
   "version": "3.11.6"
  }
 },
 "nbformat": 4,
 "nbformat_minor": 4
}
